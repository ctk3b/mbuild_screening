{
 "cells": [
  {
   "cell_type": "code",
   "execution_count": 1,
   "metadata": {
    "collapsed": false
   },
   "outputs": [],
   "source": [
    "import os\n",
    "\n",
    "import matplotlib.pyplot as plt\n",
    "import numpy as np\n",
    "import seaborn as sns\n",
    "\n",
    "import mbuild as mb\n",
    "import metamds as mds\n",
    "import mdtraj as md\n",
    "\n",
    "import nglview as nv\n",
    "\n",
    "%matplotlib inline\n",
    "!rm -rf output/ *.top *.gro"
   ]
  },
  {
   "cell_type": "code",
   "execution_count": 2,
   "metadata": {
    "collapsed": true
   },
   "outputs": [],
   "source": [
    "def build_monolayer(chain_length, n_molecules, **kwargs):\n",
    "    from mbuild.examples import AlkaneMonolayer\n",
    "    pattern = mb.Random2DPattern(n_molecules)\n",
    "    monolayer = AlkaneMonolayer(pattern, tile_x=1, tile_y=1, \n",
    "                                chain_length=chain_length)\n",
    "    mb.translate(monolayer, [0, 0, 2])\n",
    "    return monolayer"
   ]
  },
  {
   "cell_type": "code",
   "execution_count": 5,
   "metadata": {
    "collapsed": false
   },
   "outputs": [
    {
     "name": "stderr",
     "output_type": "stream",
     "text": [
      "/Users/ctk3b/science/python/mbuild/mbuild/recipes/monolayer.py:80: UserWarning: \n",
      " No fractions provided.  Assuming a single chain type.\n",
      "  warnings.warn(\"\\n No fractions provided.  Assuming a single chain type.\")\n",
      "/Users/ctk3b/science/python/mbuild/mbuild/recipes/monolayer.py:83: UserWarning: \n",
      " Adding 80 of chain <AlkylSilane 21 particles, non-periodic, 20 bonds, id: 4847375640>\n",
      "  warnings.warn(\"\\n Adding {} of chain {}\".format(len(pattern), chains[-1]))\n"
     ]
    }
   ],
   "source": [
    "monolayer = build_monolayer(5, 80)\n",
    "monolayer.visualize()"
   ]
  },
  {
   "cell_type": "code",
   "execution_count": 3,
   "metadata": {
    "collapsed": true
   },
   "outputs": [],
   "source": [
    "def create_run_script(build_func, forcefield, input_dir, **kwargs):\n",
    "    compound = build_func(**kwargs)\n",
    "    name = compound.name\n",
    "    em = os.path.join(input_dir, 'em.mdp')\n",
    "    nvt = os.path.join(input_dir, 'nvt.mdp')\n",
    "    gro = '{name}.gro'.format(name=name)\n",
    "    top = '{name}.top'.format(name=name)\n",
    "\n",
    "    box = compound.boundingbox\n",
    "    compound.periodicity += np.array([0, 0, 5 * box.lengths[2]])\n",
    "    compound.save(top, forcefield=forcefield, overwrite=True)\n",
    "\n",
    "    em_grompp = 'gmx grompp -f {mdp} -c {gro} -p {top} -o em.tpr'.format(mdp=em, gro=gro, top=top)\n",
    "    em_mdrun = 'gmx mdrun -v -deffnm em -ntmpi 1'\n",
    "\n",
    "    nvt_grompp = 'gmx grompp -f {mdp} -c em.gro -p {top} -o nvt.tpr'.format(mdp=nvt, top=top)\n",
    "    nvt_mdrun = 'gmx mdrun -v -deffnm nvt -ntmpi 1'\n",
    "\n",
    "    script = (em_grompp, em_mdrun, nvt_grompp, nvt_mdrun)\n",
    "    return script"
   ]
  },
  {
   "cell_type": "code",
   "execution_count": 4,
   "metadata": {
    "collapsed": false,
    "scrolled": true
   },
   "outputs": [
    {
     "name": "stderr",
     "output_type": "stream",
     "text": [
      "/Users/ctk3b/science/python/mbuild/mbuild/recipes/monolayer.py:80: UserWarning: \n",
      " No fractions provided.  Assuming a single chain type.\n",
      "  warnings.warn(\"\\n No fractions provided.  Assuming a single chain type.\")\n",
      "/Users/ctk3b/science/python/mbuild/mbuild/recipes/monolayer.py:83: UserWarning: \n",
      " Adding 100 of chain <AlkylSilane 30 particles, non-periodic, 29 bonds, id: 4679929472>\n",
      "  warnings.warn(\"\\n Adding {} of chain {}\".format(len(pattern), chains[-1]))\n"
     ]
    }
   ],
   "source": [
    "# Initialize simulation with a template and some metadata\n",
    "sim = mds.Simulation(name='monolayer', \n",
    "                     template=create_run_script,\n",
    "                     output_dir='output')\n",
    "\n",
    "#chain_lengths = [8, 12, 16, 20]\n",
    "chain_lengths = [8]\n",
    "for length in chain_lengths:\n",
    "    parameters = {'chain_length': length,\n",
    "                  'n_molecules': 100, \n",
    "                  'forcefield': 'OPLS-aa',\n",
    "                  'build_func': build_monolayer}\n",
    "    # Parameterize our simulation template\n",
    "    sim.parametrize(**parameters)"
   ]
  },
  {
   "cell_type": "code",
   "execution_count": 6,
   "metadata": {
    "collapsed": false
   },
   "outputs": [
    {
     "name": "stdout",
     "output_type": "stream",
     "text": [
      "/Users/ctk3b/science/mbuild_screening/monolayers /Users/ctk3b/science/mbuild_screening/monolayers/output/task_0\n",
      "gmx grompp -f ../../em.mdp -c AlkaneMonolayer.gro -p AlkaneMonolayer.top -o em.tpr\n",
      "gmx mdrun -v -deffnm em -ntmpi 1\n",
      "gmx grompp -f ../../nvt.mdp -c em.gro -p AlkaneMonolayer.top -o nvt.tpr\n",
      "gmx mdrun -v -deffnm nvt -ntmpi 1\n"
     ]
    }
   ],
   "source": [
    "#sim.execute_all(hostname='rahman.vuse.vanderbilt.edu', username='ctk3b')\n",
    "sim.execute_all()"
   ]
  },
  {
   "cell_type": "code",
   "execution_count": 7,
   "metadata": {
    "collapsed": false
   },
   "outputs": [],
   "source": [
    "#sim.sync_all()"
   ]
  },
  {
   "cell_type": "code",
   "execution_count": 8,
   "metadata": {
    "collapsed": false
   },
   "outputs": [
    {
     "name": "stdout",
     "output_type": "stream",
     "text": [
      "<mdtraj.Trajectory with 21 frames, 4900 atoms, 1 residues, and unitcells>\n"
     ]
    }
   ],
   "source": [
    "task_1 = next(sim.tasks())\n",
    "trj_path = os.path.join(task_1.output_dir, 'nvt.xtc')\n",
    "top_path = os.path.join(task_1.output_dir, 'em.gro')\n",
    "traj = md.load(trj_path, top=top_path)\n",
    "print(traj)"
   ]
  },
  {
   "cell_type": "code",
   "execution_count": 9,
   "metadata": {
    "collapsed": false
   },
   "outputs": [],
   "source": [
    "nv.show_mdtraj(traj)"
   ]
  },
  {
   "cell_type": "code",
   "execution_count": 10,
   "metadata": {
    "collapsed": false
   },
   "outputs": [
    {
     "data": {
      "text/plain": [
       "<matplotlib.text.Text at 0x11a6864a8>"
      ]
     },
     "execution_count": 10,
     "metadata": {},
     "output_type": "execute_result"
    },
    {
     "data": {
      "image/png": "[encoded data removed]",
      "text/plain": [
       "<matplotlib.figure.Figure at 0x11a6b1630>"
      ]
     },
     "metadata": {},
     "output_type": "display_data"
    }
   ],
   "source": [
    "# Nematic order parameter\n",
    "atoms_per_chain = int((traj.n_atoms - 1800) / 100)\n",
    "chain_indices = [[n+x for x in range(atoms_per_chain)] \n",
    "                 for n in range(1800, traj.n_atoms, atoms_per_chain)]\n",
    "s2 = md.compute_nematic_order(traj, indices=chain_indices)\n",
    "    \n",
    "plt.plot(traj.time, s2)\n",
    "plt.xlabel('Time (ps)')\n",
    "plt.ylabel('Nematic order parameter, S2')"
   ]
  },
  {
   "cell_type": "code",
   "execution_count": null,
   "metadata": {
    "collapsed": false
   },
   "outputs": [],
   "source": [
    "\n"
   ]
  },
  {
   "cell_type": "code",
   "execution_count": null,
   "metadata": {
    "collapsed": true
   },
   "outputs": [],
   "source": []
  },
  {
   "cell_type": "code",
   "execution_count": null,
   "metadata": {
    "collapsed": true
   },
   "outputs": [],
   "source": []
  }
 ],
 "metadata": {
  "anaconda-cloud": {},
  "kernelspec": {
   "display_name": "Python [default]",
   "language": "python",
   "name": "python3"
  },
  "language_info": {
   "codemirror_mode": {
    "name": "ipython",
    "version": 3
   },
   "file_extension": ".py",
   "mimetype": "text/x-python",
   "name": "python",
   "nbconvert_exporter": "python",
   "pygments_lexer": "ipython3",
   "version": "3.4.5"
  },
  "widgets": {
   "state": {
    "28dc6b450c6e497ab910a43763230fcd": {
     "views": [
      {
       "cell_index": 8
      }
     ]
    },
    "458aa2002d4b49b09b8605db9d27b783": {
     "views": [
      {
       "cell_index": 2
      }
     ]
    },
    "8c5553b094254a97b3936ebc08a83314": {
     "views": [
      {
       "cell_index": 8
      }
     ]
    },
    "9e3370560abb42c291c394c71e1b96c6": {
     "views": [
      {
       "cell_index": 2
      }
     ]
    }
   },
   "version": "1.2.0"
  }
 },
 "nbformat": 4,
 "nbformat_minor": 0
}

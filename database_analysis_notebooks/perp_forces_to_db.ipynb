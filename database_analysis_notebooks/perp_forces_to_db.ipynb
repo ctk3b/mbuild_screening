{
 "cells": [
  {
   "cell_type": "code",
   "execution_count": 1,
   "metadata": {
    "collapsed": true
   },
   "outputs": [
    {
     "name": "stderr",
     "output_type": "stream",
     "text": [
      "/home/jonestj1/anaconda3/envs/jonestj2_sand/lib/python3.5/site-packages/MDAnalysis/__init__.py:190: UserWarning: #####\n",
      "MDAnalysis on python 3 is highly experimental!\n",
      "It is mostly non functional and dramatically untested.\n",
      "Use at your own risks!!!\n",
      "\n",
      "  ''')\n"
     ]
    }
   ],
   "source": [
    "%matplotlib inline\n",
    "import matplotlib.pyplot as plt\n",
    "import MDAnalysis as mda\n",
    "import numpy as np\n",
    "import seaborn as sns\n",
    "\n",
    "from pprint import pprint\n",
    "\n",
    "from metamds.db import retrieve_all, query_sim\n",
    "from metamds.db import update_doc\n",
    "from block_avg import block_average"
   ]
  },
  {
   "cell_type": "code",
   "execution_count": 8,
   "metadata": {
    "collapsed": false
   },
   "outputs": [],
   "source": [
    "collection = \"peg_oxy_cap\"\n",
    "#params = dict()\n",
    "#params['polymer_class'] = [\"AlkaneMonolayer\"]\n",
    "#params['surface_class'] = [\"Betacristobalite\"]\n",
    "#params['chain_length'] = [7, 10]\n",
    "#cursor = query_sim(**params, collection=collection)\n",
    "cursor = retrieve_all(collection=collection)\n",
    "count=0"
   ]
  },
  {
   "cell_type": "code",
   "execution_count": 9,
   "metadata": {
    "collapsed": false,
    "scrolled": true
   },
   "outputs": [
    {
     "name": "stdout",
     "output_type": "stream",
     "text": [
      "yes 1\n",
      "yes 2\n",
      "yes 3\n",
      "yes 4\n",
      "yes 5\n",
      "yes 6\n",
      "yes 7\n",
      "yes 8\n",
      "yes 9\n",
      "yes 10\n",
      "yes 11\n",
      "yes 12\n",
      "yes 13\n",
      "yes 14\n",
      "yes 15\n",
      "yes 16\n",
      "yes 17\n",
      "yes 18\n",
      "yes 19\n",
      "yes 20\n",
      "yes 21\n",
      "yes 22\n",
      "yes 23\n",
      "yes 24\n",
      "yes 25\n",
      "yes 26\n",
      "yes 27\n",
      "yes 28\n",
      "yes 29\n",
      "yes 30\n",
      "yes 31\n",
      "yes 32\n",
      "yes 33\n",
      "yes 34\n",
      "yes 35\n",
      "yes 36\n",
      "yes 37\n",
      "yes 38\n",
      "yes 39\n",
      "yes 40\n",
      "yes 41\n",
      "yes 42\n",
      "yes 43\n",
      "yes 44\n",
      "yes 45\n",
      "yes 46\n",
      "yes 47\n",
      "yes 48\n",
      "yes 49\n",
      "yes 50\n",
      "yes 51\n",
      "yes 52\n",
      "yes 53\n",
      "yes 54\n",
      "yes 55\n",
      "yes 56\n",
      "yes 57\n",
      "yes 58\n",
      "yes 59\n",
      "yes 60\n",
      "yes 61\n",
      "yes 62\n",
      "yes 63\n",
      "yes 64\n",
      "yes 65\n",
      "yes 66\n",
      "yes 67\n",
      "yes 68\n",
      "yes 69\n",
      "yes 70\n",
      "yes 71\n",
      "yes 72\n",
      "yes 73\n",
      "yes 74\n",
      "yes 75\n",
      "yes 76\n",
      "yes 77\n",
      "yes 78\n",
      "yes 79\n",
      "yes 80\n",
      "yes 81\n",
      "yes 82\n",
      "yes 83\n",
      "yes 84\n"
     ]
    }
   ],
   "source": [
    "for doc in cursor:\n",
    "    if 'perpendicular_forces' in doc.keys():\n",
    "        continue\n",
    "    trr_file = '{}shear.trr'.format(doc['output_dir'])\n",
    "    \n",
    "    polymer = doc['polymer_class']\n",
    "    n_molecules = doc ['n_molecules']\n",
    "    chain_length = doc['chain_length']\n",
    "    surface = doc['surface_class']\n",
    "    pattern = doc['pattern_class']\n",
    "    normal_force = doc['normal_force(kJ/mol/A)']\n",
    "\n",
    "    name = doc['name']\n",
    "    \n",
    "    try:\n",
    "        trr = mda.coordinates.TRR.TRRReader(trr_file)\n",
    "    except IOError:\n",
    "        continue\n",
    "        \n",
    "    perp_forces = []\n",
    "    toss = 1000\n",
    "    for frame in trr:\n",
    "        if frame.time > toss:\n",
    "            #top_forces = frame.forces[int(frame.n_atoms/2):]\n",
    "            top_forces = frame.forces[:int(frame.n_atoms/2)]\n",
    "            #top_forces = frame.forces[:]\n",
    "            #top_forces = frame.velocities[:]\n",
    "            perp_forces.append(float(np.sum(top_forces[:, 1])))\n",
    "        last_time = frame.time\n",
    "        \n",
    "    #perp_forces_nN = [item*0.0166 for item in perp_forces]\n",
    "    perp_forces_nN = perp_forces\n",
    "    time, results = block_average(np.linspace(1000.0, last_time, len(perp_forces_nN)) / 1000, \n",
    "                                  50, perp_forces_nN)\n",
    "    plt.plot(np.linspace(1000.0, last_time, len(perp_forces_nN)) / 1000, perp_forces_nN, alpha=0.5)\n",
    "    plt.xlabel('time (ns)')\n",
    "    plt.ylabel('force_y')\n",
    "    plt.ylim((-500, 500))\n",
    "    plt.errorbar(time, results[0], yerr=results[1],\n",
    "                 ls='-', marker='D', label='')\n",
    "    print(name, last_time, normal_force)\n",
    "    plt.show()\n",
    "    plt.clf()\n",
    "    del trr\n",
    "\n",
    "    update_doc(existing_doc=doc, added_values={\"perpendicular_forces\":perp_forces}, collection=collection)\n",
    "    print(count)"
   ]
  },
  {
   "cell_type": "code",
   "execution_count": 16,
   "metadata": {
    "collapsed": false
   },
   "outputs": [
    {
     "name": "stdout",
     "output_type": "stream",
     "text": [
      "50000.0\n"
     ]
    }
   ],
   "source": [
    "print(last_time)"
   ]
  },
  {
   "cell_type": "code",
   "execution_count": null,
   "metadata": {
    "collapsed": true
   },
   "outputs": [],
   "source": []
  }
 ],
 "metadata": {
  "kernelspec": {
   "display_name": "Python 3",
   "language": "python",
   "name": "python3"
  },
  "language_info": {
   "codemirror_mode": {
    "name": "ipython",
    "version": 3
   },
   "file_extension": ".py",
   "mimetype": "text/x-python",
   "name": "python",
   "nbconvert_exporter": "python",
   "pygments_lexer": "ipython3",
   "version": "3.5.1"
  }
 },
 "nbformat": 4,
 "nbformat_minor": 0
}

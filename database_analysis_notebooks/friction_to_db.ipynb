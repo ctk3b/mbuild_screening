{
 "cells": [
  {
   "cell_type": "code",
   "execution_count": 1,
   "metadata": {
    "collapsed": true
   },
   "outputs": [
    {
     "name": "stderr",
     "output_type": "stream",
     "text": [
      "/home/jonestj1/anaconda3/envs/jonestj2_sand/lib/python3.5/site-packages/MDAnalysis/__init__.py:190: UserWarning: #####\n",
      "MDAnalysis on python 3 is highly experimental!\n",
      "It is mostly non functional and dramatically untested.\n",
      "Use at your own risks!!!\n",
      "\n",
      "  ''')\n"
     ]
    }
   ],
   "source": [
    "import MDAnalysis as mda\n",
    "import numpy as np\n",
    "\n",
    "from pprint import pprint\n",
    "\n",
    "from metamds.db import retrieve_all\n",
    "from metamds.db import update_doc\n",
    "from block_avg import block_average"
   ]
  },
  {
   "cell_type": "code",
   "execution_count": 2,
   "metadata": {
    "collapsed": true
   },
   "outputs": [],
   "source": [
    "collection = \"peg_oxy_cap\"\n",
    "cursor = retrieve_all(collection=collection)"
   ]
  },
  {
   "cell_type": "code",
   "execution_count": 3,
   "metadata": {
    "collapsed": false
   },
   "outputs": [],
   "source": [
    "for doc in cursor:\n",
    "    if 'friction' in doc.keys():\n",
    "        continue\n",
    "    trr_file = '{}shear.trr'.format(doc['output_dir'])\n",
    "    \n",
    "    polymer = doc['polymer_class']\n",
    "    n_molecules = doc ['n_molecules']\n",
    "    chain_length = doc['chain_length']\n",
    "    surface = doc['surface_class']\n",
    "    pattern = doc['pattern_class']\n",
    "    normal_force = doc['normal_force(kJ/mol/A)']\n",
    "\n",
    "    name = doc['name']\n",
    "    \n",
    "    try:\n",
    "        trr = mda.coordinates.TRR.TRRReader(trr_file)\n",
    "    except IOError:\n",
    "        continue\n",
    "        \n",
    "    fric = []\n",
    "    toss = 1000\n",
    "    for frame in trr:\n",
    "        if frame.time > toss:\n",
    "            top_forces = frame.forces[:int(frame.n_atoms/2)]\n",
    "            fric.append(float(np.sum(top_forces[:, 0])))\n",
    "        last_time = frame.time\n",
    "\n",
    "    update_doc(existing_doc=doc, added_values={\"friction\":fric}, collection=collection)"
   ]
  },
  {
   "cell_type": "code",
   "execution_count": 4,
   "metadata": {
    "collapsed": false,
    "scrolled": true
   },
   "outputs": [],
   "source": [
    "cursor = retrieve_all(collection=collection)\n",
    "for doc in cursor:\n",
    "    if 'last_time' in doc.keys():\n",
    "        continue\n",
    "    update_doc(existing_doc=doc, added_values={\"last_time\":50000.0}, collection=collection)"
   ]
  }
 ],
 "metadata": {
  "kernelspec": {
   "display_name": "Python 3",
   "language": "python",
   "name": "python3"
  },
  "language_info": {
   "codemirror_mode": {
    "name": "ipython",
    "version": 3
   },
   "file_extension": ".py",
   "mimetype": "text/x-python",
   "name": "python",
   "nbconvert_exporter": "python",
   "pygments_lexer": "ipython3",
   "version": "3.5.1"
  }
 },
 "nbformat": 4,
 "nbformat_minor": 0
}

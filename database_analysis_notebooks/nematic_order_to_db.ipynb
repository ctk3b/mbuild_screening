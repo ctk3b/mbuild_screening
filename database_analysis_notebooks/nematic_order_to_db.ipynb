{
 "cells": [
  {
   "cell_type": "code",
   "execution_count": 1,
   "metadata": {
    "collapsed": true
   },
   "outputs": [],
   "source": [
    "import itertools as it\n",
    "\n",
    "import mdtraj as md\n",
    "import numpy as np\n",
    "\n",
    "import metamds as mds\n",
    "\n",
    "from metamds.db import retrieve_all\n",
    "from metamds.db import update_doc"
   ]
  },
  {
   "cell_type": "code",
   "execution_count": 4,
   "metadata": {
    "collapsed": false
   },
   "outputs": [],
   "source": [
    "collection = \"peg_oxy_cap\"\n",
    "cursor = retrieve_all(collection=collection)\n",
    "s2 = dict()"
   ]
  },
  {
   "cell_type": "code",
   "execution_count": 5,
   "metadata": {
    "collapsed": false,
    "scrolled": true
   },
   "outputs": [
    {
     "name": "stdout",
     "output_type": "stream",
     "text": [
      "PegO_n-100_l-7_Betacristobalite_Rand s2 in docs\n",
      "PegO_n-100_l-7_SilicaInterface_Rand s2 in docs\n",
      "PegO_n-100_l-10_Betacristobalite_Rand s2 in docs\n",
      "PegO_n-100_l-10_SilicaInterface_Rand s2 in docs\n",
      "PegO_n-100_l-13_Betacristobalite_Rand s2 in docs\n",
      "PegO_n-100_l-13_SilicaInterface_Rand s2 in docs\n",
      "PegO_n-100_l-16_Betacristobalite_Rand s2 in docs\n",
      "PegO_n-100_l-16_SilicaInterface_Rand s2 in docs\n",
      "PegO_n-100_l-19_Betacristobalite_Rand s2 in docs\n",
      "PegO_n-100_l-19_SilicaInterface_Rand s2 in docs\n",
      "PegO_n-100_l-22_Betacristobalite_Rand s2 in docs\n",
      "PegO_n-100_l-22_SilicaInterface_Rand s2 in docs\n",
      "PegO_n-100_l-7_Betacristobalite_Rand s2 in docs\n",
      "PegO_n-100_l-7_SilicaInterface_Rand s2 in docs\n",
      "PegO_n-100_l-10_Betacristobalite_Rand s2 in docs\n",
      "PegO_n-100_l-10_SilicaInterface_Rand s2 in docs\n",
      "PegO_n-100_l-13_Betacristobalite_Rand s2 in docs\n",
      "PegO_n-100_l-13_SilicaInterface_Rand s2 in docs\n",
      "PegO_n-100_l-16_Betacristobalite_Rand s2 in docs\n",
      "PegO_n-100_l-16_SilicaInterface_Rand s2 in docs\n",
      "PegO_n-100_l-19_Betacristobalite_Rand s2 in docs\n",
      "PegO_n-100_l-19_SilicaInterface_Rand s2 in docs\n",
      "PegO_n-100_l-22_Betacristobalite_Rand s2 in docs\n",
      "PegO_n-100_l-22_SilicaInterface_Rand s2 in docs\n",
      "PegO_n-100_l-7_Betacristobalite_Rand s2 in docs\n",
      "PegO_n-100_l-7_SilicaInterface_Rand s2 in docs\n",
      "PegO_n-100_l-10_Betacristobalite_Rand s2 in docs\n",
      "PegO_n-100_l-10_SilicaInterface_Rand s2 in docs\n",
      "PegO_n-100_l-13_Betacristobalite_Rand s2 in docs\n",
      "PegO_n-100_l-13_SilicaInterface_Rand s2 in docs\n",
      "PegO_n-100_l-16_Betacristobalite_Rand s2 in docs\n",
      "PegO_n-100_l-16_SilicaInterface_Rand s2 in docs\n",
      "PegO_n-100_l-19_Betacristobalite_Rand s2 in docs\n",
      "PegO_n-100_l-19_SilicaInterface_Rand s2 in docs\n",
      "PegO_n-100_l-22_Betacristobalite_Rand s2 in docs\n",
      "PegO_n-100_l-22_SilicaInterface_Rand s2 in docs\n",
      "PegO_n-100_l-7_Betacristobalite_Rand s2 in docs\n",
      "PegO_n-100_l-7_SilicaInterface_Rand s2 in docs\n",
      "PegO_n-100_l-10_Betacristobalite_Rand s2 in docs\n",
      "PegO_n-100_l-10_SilicaInterface_Rand s2 in docs\n",
      "PegO_n-100_l-13_Betacristobalite_Rand s2 in docs\n",
      "PegO_n-100_l-13_SilicaInterface_Rand s2 in docs\n",
      "PegO_n-100_l-16_Betacristobalite_Rand s2 in docs\n",
      "PegO_n-100_l-16_SilicaInterface_Rand s2 in docs\n",
      "PegO_n-100_l-19_Betacristobalite_Rand s2 in docs\n",
      "PegO_n-100_l-19_SilicaInterface_Rand s2 in docs\n",
      "PegO_n-100_l-22_Betacristobalite_Rand s2 in docs\n",
      "PegO_n-100_l-22_SilicaInterface_Rand s2 in docs\n",
      "PegO_n-100_l-7_Betacristobalite_Rand s2 in docs\n",
      "PegO_n-100_l-7_SilicaInterface_Rand s2 in docs\n",
      "PegO_n-100_l-10_Betacristobalite_Rand s2 in docs\n",
      "PegO_n-100_l-10_SilicaInterface_Rand s2 in docs\n",
      "PegO_n-100_l-13_Betacristobalite_Rand s2 in docs\n",
      "PegO_n-100_l-13_SilicaInterface_Rand s2 in docs\n",
      "PegO_n-100_l-16_Betacristobalite_Rand s2 in docs\n",
      "PegO_n-100_l-16_SilicaInterface_Rand s2 in docs\n"
     ]
    },
    {
     "name": "stderr",
     "output_type": "stream",
     "text": [
      "/home/jonestj1/anaconda3/envs/jonestj2_sand/lib/python3.5/site-packages/mdtraj-1.7.2-py3.5-linux-x86_64.egg/mdtraj/core/trajectory.py:1094: VisibleDeprecationWarning: using a non-integer number instead of an integer will result in an error in the future\n",
      "  xyz = self.xyz[key]\n",
      "/home/jonestj1/anaconda3/envs/jonestj2_sand/lib/python3.5/site-packages/mdtraj-1.7.2-py3.5-linux-x86_64.egg/mdtraj/core/trajectory.py:1095: VisibleDeprecationWarning: using a non-integer number instead of an integer will result in an error in the future\n",
      "  time = self.time[key]\n",
      "/home/jonestj1/anaconda3/envs/jonestj2_sand/lib/python3.5/site-packages/mdtraj-1.7.2-py3.5-linux-x86_64.egg/mdtraj/core/trajectory.py:1098: VisibleDeprecationWarning: using a non-integer number instead of an integer will result in an error in the future\n",
      "  unitcell_angles = self.unitcell_angles[key]\n",
      "/home/jonestj1/anaconda3/envs/jonestj2_sand/lib/python3.5/site-packages/mdtraj-1.7.2-py3.5-linux-x86_64.egg/mdtraj/core/trajectory.py:1100: VisibleDeprecationWarning: using a non-integer number instead of an integer will result in an error in the future\n",
      "  unitcell_lengths = self.unitcell_lengths[key]\n"
     ]
    },
    {
     "name": "stdout",
     "output_type": "stream",
     "text": [
      "PegO_n-100_l-19_Betacristobalite_Rand 4901 1200.0\n",
      "PegO_n-100_l-19_SilicaInterface_Rand 4901 1200.0\n",
      "PegO_n-100_l-22_Betacristobalite_Rand 4901 1200.0\n",
      "PegO_n-100_l-22_SilicaInterface_Rand 4901 1200.0\n",
      "PegO_n-100_l-7_Betacristobalite_Rand 4901 2100.0\n",
      "PegO_n-100_l-7_SilicaInterface_Rand 4901 2100.0\n",
      "PegO_n-100_l-10_Betacristobalite_Rand 4901 2100.0\n",
      "PegO_n-100_l-10_SilicaInterface_Rand 4901 2100.0\n",
      "PegO_n-100_l-13_Betacristobalite_Rand 4901 2100.0\n",
      "PegO_n-100_l-13_SilicaInterface_Rand 4901 2100.0\n",
      "PegO_n-100_l-16_Betacristobalite_Rand 4901 2100.0\n",
      "PegO_n-100_l-16_SilicaInterface_Rand 4901 2100.0\n",
      "PegO_n-100_l-19_Betacristobalite_Rand 4901 2100.0\n",
      "PegO_n-100_l-19_SilicaInterface_Rand 4901 2100.0\n",
      "PegO_n-100_l-22_Betacristobalite_Rand 4901 2100.0\n",
      "PegO_n-100_l-22_SilicaInterface_Rand 4901 2100.0\n",
      "PegO_n-100_l-7_Betacristobalite_Rand 4901 2700.0\n",
      "PegO_n-100_l-7_SilicaInterface_Rand 4901 2700.0\n",
      "PegO_n-100_l-10_Betacristobalite_Rand 4901 2700.0\n",
      "PegO_n-100_l-10_SilicaInterface_Rand 4901 2700.0\n",
      "PegO_n-100_l-13_Betacristobalite_Rand 4901 2700.0\n",
      "PegO_n-100_l-13_SilicaInterface_Rand 4901 2700.0\n",
      "PegO_n-100_l-16_Betacristobalite_Rand 4901 2700.0\n",
      "PegO_n-100_l-16_SilicaInterface_Rand 4901 2700.0\n",
      "PegO_n-100_l-19_Betacristobalite_Rand 4901 2700.0\n",
      "PegO_n-100_l-19_SilicaInterface_Rand 4901 2700.0\n",
      "PegO_n-100_l-22_Betacristobalite_Rand 4901 2700.0\n",
      "PegO_n-100_l-22_SilicaInterface_Rand 4901 2700.0\n"
     ]
    }
   ],
   "source": [
    "for doc in cursor:\n",
    "\n",
    "    name = doc['name']\n",
    "    \n",
    "    if 's2' in doc.keys():\n",
    "        print(\"{} s2 in docs\".format(name))\n",
    "        continue\n",
    "    trr_file = '{}shear_whole.xtc'.format(doc['output_dir'])\n",
    "    top_file = '{}shear.gro'.format(doc['output_dir'])\n",
    "    \n",
    "    polymer = doc['polymer_class']\n",
    "    n_chains_per_surface = doc ['n_molecules']\n",
    "    chain_length = doc['chain_length']\n",
    "    surface_class = doc['surface_class']\n",
    "    pattern = doc['pattern_class']\n",
    "    normal_force = doc['normal_force(kJ/mol/A)']\n",
    "\n",
    "    try:\n",
    "        traj = md.load(trr_file, top=top_file)\n",
    "    except IOError:\n",
    "        print(\"{} not found\".format(trr_file))\n",
    "        continue\n",
    "\n",
    "    if surface_class == 'SilicaInterface':\n",
    "        n_surface_atoms = 2105\n",
    "        hydrogens_per_surface = 125-n_chains_per_surface\n",
    "    elif surface_class == 'Betacristobalite':\n",
    "        n_surface_atoms = 1900\n",
    "        hydrogens_per_surface = 100-n_chains_per_surface\n",
    "\n",
    "    \n",
    "    dt = traj.time[1] - traj.time[0]\n",
    "    toss = 1000//dt # 1 ns\n",
    "    traj = traj[toss:]\n",
    "    \n",
    "    if polymer == 'AlkaneMonolayer':\n",
    "        atoms_per_chain = (chain_length-1) * 3 + 4 + 5\n",
    "    elif polymer == 'PegMonolayer' or polymer == 'PegOxyCapMonolayer':\n",
    "        atoms_per_chain = (chain_length-1) // 3 * 7 + 4 + 5\n",
    "    \n",
    "    sti_chain_indices = [[n+x for x in range(atoms_per_chain)]\n",
    "                         for n in range(n_surface_atoms, \n",
    "                                        traj.n_atoms // 2 - hydrogens_per_surface,\n",
    "                                        atoms_per_chain)]\n",
    "    mov_chain_indices = [[n+x for x in range(atoms_per_chain)]\n",
    "                         for n in range(traj.n_atoms // 2 + n_surface_atoms,\n",
    "                                        traj.n_atoms - hydrogens_per_surface,\n",
    "                                        atoms_per_chain)]\n",
    "\n",
    "    \n",
    "    still_s2 = md.compute_nematic_order(traj, indices=sti_chain_indices)\n",
    "    moving_s2 = md.compute_nematic_order(traj, indices=mov_chain_indices)\n",
    "\n",
    "    \n",
    "    added_values = {\"s2\":[still_s2.tolist(), moving_s2.tolist()]}\n",
    "\n",
    "    print(name, traj.n_frames, normal_force)\n",
    "    update_doc(collection=collection, existing_doc=doc, added_values=added_values)\n",
    "    \n",
    "    \n",
    "    del traj"
   ]
  },
  {
   "cell_type": "code",
   "execution_count": null,
   "metadata": {
    "collapsed": true
   },
   "outputs": [],
   "source": []
  }
 ],
 "metadata": {
  "kernelspec": {
   "display_name": "Python 3",
   "language": "python",
   "name": "python3"
  },
  "language_info": {
   "codemirror_mode": {
    "name": "ipython",
    "version": 3
   },
   "file_extension": ".py",
   "mimetype": "text/x-python",
   "name": "python",
   "nbconvert_exporter": "python",
   "pygments_lexer": "ipython3",
   "version": "3.5.1"
  }
 },
 "nbformat": 4,
 "nbformat_minor": 0
}

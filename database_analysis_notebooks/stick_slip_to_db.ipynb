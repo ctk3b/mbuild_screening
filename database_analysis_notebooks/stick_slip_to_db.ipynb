{
 "cells": [
  {
   "cell_type": "code",
   "execution_count": 1,
   "metadata": {
    "collapsed": false
   },
   "outputs": [],
   "source": [
    "%matplotlib inline\n",
    "import matplotlib.pyplot as plt\n",
    "import mdtraj as md\n",
    "import numpy as np\n",
    "import seaborn as sns\n",
    "\n",
    "from pprint import pprint\n",
    "\n",
    "from metamds.db import retrieve_all, query_sim\n",
    "from metamds.db import update_doc\n",
    "# from block_avg import block_average"
   ]
  },
  {
   "cell_type": "code",
   "execution_count": 2,
   "metadata": {
    "collapsed": false
   },
   "outputs": [],
   "source": [
    "collection = \"peg_oxy_cap\"\n",
    "#params = dict()\n",
    "#params['polymer_class'] = [\"AlkaneMonolayer\"]\n",
    "#params['surface_class'] = [\"Betacristobalite\"]\n",
    "#params['chain_length'] = [10]\n",
    "#params['normal_force(kJ/mol/A)'] = [1500]\n",
    "#cursor = query_sim(**params, collection=collection)\n",
    "cursor = retrieve_all(collection=collection)"
   ]
  },
  {
   "cell_type": "code",
   "execution_count": 3,
   "metadata": {
    "collapsed": false,
    "scrolled": true
   },
   "outputs": [],
   "source": [
    "for doc in cursor:\n",
    "    if 'stick_slip' in doc.keys():\n",
    "        continue\n",
    "    trr_file = '{}shear_whole.xtc'.format(doc['output_dir'])\n",
    "    top_file = '{}nvt.gro'.format(doc['output_dir'])\n",
    "    \n",
    "    polymer = doc['polymer_class']\n",
    "    n_molecules = doc ['n_molecules']\n",
    "    chain_length = doc['chain_length']\n",
    "    surface = doc['surface_class']\n",
    "    pattern = doc['pattern_class']\n",
    "    normal_force = doc['normal_force(kJ/mol/A)']\n",
    "\n",
    "    name = doc['name']\n",
    "    \n",
    "    traj = md.load(trr_file, top=top_file)\n",
    "    \n",
    "    dt = traj.time[1] - traj.time[0]\n",
    "    toss = 1000/dt # 1 ns\n",
    "\n",
    "    t = traj.time[toss:]\n",
    "    x = np.copy(traj.xyz[toss:, traj.n_atoms/2 + 2, 0])\n",
    "    plt.plot(t, x)\n",
    "    plt.xlabel('time (ps)')\n",
    "    plt.ylabel('x position (nm)')\n",
    "    print(name, normal_force)\n",
    "    plt.show()\n",
    "    plt.clf()\n",
    "    \n",
    "    box_x = traj.unitcell_lengths[0, 0]\n",
    "\n",
    "    n_hops = np.zeros_like(x)\n",
    "    for i, p in enumerate(x):\n",
    "        if p - x[i-1] > 0.5*box_x:\n",
    "            n_hops[i:] += 1\n",
    "        elif p - x[i-1] < -0.5*box_x:\n",
    "            n_hops[i:] -= 1\n",
    "\n",
    "    x_no_hops = x - n_hops * box_x\n",
    "    \n",
    "    x_no_hops = x_no_hops.tolist()\n",
    "    t = t.tolist()\n",
    "    \n",
    "    stick_slip = {\"stick_slip\":[x_no_hops, t]}\n",
    "    update_doc(existing_doc=doc, added_values=stick_slip, collection=collection)\n",
    "    \n",
    "    fig = plt.figure()\n",
    "    #plt.plot(t[:20000] / 1000, x_no_hops[:20000])\n",
    "    plt.plot([x / 1000 for x in t[2400:2500]], x_no_hops[2400:2500])\n",
    "    plt.xlabel('time (ns)')\n",
    "    plt.ylabel('x position (nm)')\n",
    "    plt.show()\n",
    "    plt.clf()\n",
    "    del traj\n",
    "#fig.savefig('x_displacement.pdf', bbox_inches='tight')"
   ]
  },
  {
   "cell_type": "code",
   "execution_count": null,
   "metadata": {
    "collapsed": false,
    "scrolled": true
   },
   "outputs": [],
   "source": []
  },
  {
   "cell_type": "code",
   "execution_count": null,
   "metadata": {
    "collapsed": true
   },
   "outputs": [],
   "source": []
  }
 ],
 "metadata": {
  "kernelspec": {
   "display_name": "Python 3",
   "language": "python",
   "name": "python3"
  },
  "language_info": {
   "codemirror_mode": {
    "name": "ipython",
    "version": 3
   },
   "file_extension": ".py",
   "mimetype": "text/x-python",
   "name": "python",
   "nbconvert_exporter": "python",
   "pygments_lexer": "ipython3",
   "version": "3.5.1"
  }
 },
 "nbformat": 4,
 "nbformat_minor": 0
}
